{
 "cells": [
  {
   "cell_type": "markdown",
   "metadata": {},
   "source": [
    "# Implement Spatial Pooler\n",
    "\n",
    "В данной тетради требуется реализовать Spatial Pooler по аналогии с [описанием](https://numenta.com/assets/pdf/spatial-pooling-algorithm/Spatial-Pooling-Algorithm-Details.pdf) и [статьёй](https://www.frontiersin.org/articles/10.3389/fncom.2017.00111/pdf) от нументы. Данная тетрадь сделана на основе [примера](https://github.com/htm-community/htm.core/blob/master/py/htm/examples/mnist.py) из нументовского фреймворка `htm.core`. Сам их фреймворк нам здесь не понадобится — его ставить не нужно, но можешь ради интереса к тестам ниже добавить и тест эталонной реализации Spatial Pooler.\n",
    "\n",
    "Для начала посмотри эпизоды 0-8 видео гайда [HTMSchool](https://www.youtube.com/watch?v=XMB0ri4qgwc&list=PL3yXMgtrZmDqhsFQzwUC9V8MeeVOQ7eZ9)."
   ]
  },
  {
   "cell_type": "markdown",
   "metadata": {},
   "source": [
    "## 01. Getting ready\n",
    "\n",
    "Данная секция содержит:\n",
    "\n",
    "- импорт необходимых пакетов (убедись, что все они установлены)\n",
    "- загрузка датасета"
   ]
  },
  {
   "cell_type": "code",
   "execution_count": 2,
   "metadata": {},
   "outputs": [],
   "source": [
    "import numpy as np\n",
    "import matplotlib.pyplot as plt\n",
    "import numpy as np\n",
    "from IPython.display import clear_output\n",
    "\n",
    "from sklearn.datasets import fetch_openml\n",
    "from sklearn.linear_model import LogisticRegression\n",
    "from scipy.sparse import csr_matrix\n",
    "%matplotlib inline\n",
    "    \n",
    "seed = 1337"
   ]
  },
  {
   "cell_type": "markdown",
   "metadata": {},
   "source": [
    "### Load data\n",
    "\n",
    "Следующая ячейка загружает датасет MNIST (займет порядка 10-20 сек)."
   ]
  },
  {
   "cell_type": "code",
   "execution_count": 3,
   "metadata": {},
   "outputs": [
    {
     "name": "stdout",
     "output_type": "stream",
     "text": [
      "(70000, 28, 28) (70000,)\n"
     ]
    },
    {
     "data": {
      "text/plain": [
       "((60000, 28, 28), (60000,), (10000, 28, 28), (10000,))"
      ]
     },
     "execution_count": 3,
     "metadata": {},
     "output_type": "execute_result"
    }
   ],
   "source": [
    "def load_ds(rng, name, num_test, shape=None):\n",
    "    \"\"\" \n",
    "    fetch dataset from openML.org and split to train/test\n",
    "    @param name - ID on openML (eg. 'mnist_784')\n",
    "    @param num_test - num. samples to take as test\n",
    "    @param shape - new reshape of a single data point (ie data['data'][0]) as a list. Eg. [28,28] for MNIST\n",
    "    \"\"\"\n",
    "    data = fetch_openml(name, version=1, parser='auto')\n",
    "    sz=data['target'].shape[0]\n",
    "\n",
    "    X = np.array(data['data'])\n",
    "    if shape is not None:\n",
    "        new_shape = shape.insert(0, sz)\n",
    "        X = np.reshape(X, shape)\n",
    "\n",
    "    y = np.array(data['target']).astype(np.int32)\n",
    "    print(X.shape, y.shape)\n",
    "    \n",
    "    indices = rng.permutation(y.size)\n",
    "    X = X[indices, :, :]\n",
    "    y = y[indices]\n",
    "\n",
    "    # split to train/test data\n",
    "    train_labels = y[:sz-num_test]\n",
    "    train_images = X[:sz-num_test]\n",
    "    test_labels  = y[sz-num_test:]\n",
    "    test_images  = X[sz-num_test:]\n",
    "\n",
    "    return train_labels, train_images, test_labels, test_images\n",
    "\n",
    "rng = np.random.default_rng(seed)\n",
    "train_labels, train_images, test_labels, test_images = load_ds(rng, 'mnist_784', 10000, shape=[28,28])\n",
    "\n",
    "n_train_samples = train_images.shape[0]\n",
    "n_test_samples = test_images.shape[0]\n",
    "image_shape = train_images[0].shape\n",
    "image_side = image_shape[0]\n",
    "image_size = image_side ** 2\n",
    "\n",
    "\n",
    "train_images.shape, train_labels.shape, test_images.shape, test_labels.shape"
   ]
  },
  {
   "cell_type": "markdown",
   "metadata": {},
   "source": [
    "Пример формата данных датасета"
   ]
  },
  {
   "cell_type": "code",
   "execution_count": 4,
   "metadata": {},
   "outputs": [
    {
     "name": "stdout",
     "output_type": "stream",
     "text": [
      "Label: 5\n",
      "Image shape: (28, 28)\n",
      "Image middle row: [  0   0   0   0   0   0   0   0   0   0   0   0   0   0   0   0   0   0\n",
      " 145 253  53   0   0   0   0   0   0   0]\n"
     ]
    },
    {
     "data": {
      "image/png": "[encoded data removed]",
      "text/plain": [
       "<Figure size 640x480 with 1 Axes>"
      ]
     },
     "metadata": {},
     "output_type": "display_data"
    }
   ],
   "source": [
    "ind = 1\n",
    "plt.imshow(train_images[ind])\n",
    "print(f'Label: {train_labels[ind]}')\n",
    "print(f'Image shape: {image_shape}')\n",
    "print(f'Image middle row: {train_images[ind][image_side//2]}')"
   ]
  },
  {
   "cell_type": "markdown",
   "metadata": {},
   "source": [
    "Перекодируем датасет в бинарные изображения и дальше будем работать с бинарными данными."
   ]
  },
  {
   "cell_type": "code",
   "execution_count": 5,
   "metadata": {},
   "outputs": [
    {
     "data": {
      "image/png": "[encoded data removed]",
      "text/plain": [
       "<Figure size 640x480 with 1 Axes>"
      ]
     },
     "metadata": {},
     "output_type": "display_data"
    }
   ],
   "source": [
    "def plot_flatten_image(flatten_image, image_height=28):\n",
    "    plt.imshow(flatten_image.reshape((image_height, -1)))\n",
    "\n",
    "def to_binary_flatten_images(images):\n",
    "    n_samples = images.shape[0]\n",
    "    # flatten every image to vector\n",
    "    images = images.reshape((n_samples, -1))\n",
    "    # binary encoding: each image pixel is encoded either 0 or 1 depending on that image mean value\n",
    "    images = (images >= images.mean(axis=1, keepdims=True)).astype(np.int8)\n",
    "    return images\n",
    "\n",
    "\n",
    "train_images = to_binary_flatten_images(train_images)\n",
    "test_images = to_binary_flatten_images(test_images)\n",
    "plot_flatten_image(train_images[ind])"
   ]
  },
  {
   "cell_type": "markdown",
   "metadata": {},
   "source": [
    "## 02. Baseline: classifier on raw input\n",
    "\n",
    "В качестве бейзлайна возьмем стандартный sklearn'овский логрег классификатор"
   ]
  },
  {
   "cell_type": "code",
   "execution_count": 57,
   "metadata": {},
   "outputs": [],
   "source": [
    "LBFGS_MAX_ITER = 1_000"
   ]
  },
  {
   "cell_type": "code",
   "execution_count": 7,
   "metadata": {},
   "outputs": [
    {
     "name": "stdout",
     "output_type": "stream",
     "text": [
      "Score: 87.4%\n",
      "CPU times: total: 750 ms\n",
      "Wall time: 267 ms\n"
     ]
    }
   ],
   "source": [
    "%%time\n",
    "\n",
    "def test_bare_classification(x_tr,  y_tr, x_tst, y_tst):\n",
    "    linreg = LogisticRegression(tol=.05, max_iter=LBFGS_MAX_ITER, multi_class='multinomial', penalty='l2', solver='lbfgs', n_jobs=1)\n",
    "    linreg.fit(x_tr, y_tr)\n",
    "    \n",
    "    score = linreg.predict(x_tst) == y_tst\n",
    "    score = score.mean()\n",
    "    print(f'Score: {100 * score:.1f}%')\n",
    "    return score\n",
    "\n",
    "np.random.seed(seed)\n",
    "# for debug purposes I chose smaller subset of the train/test set, you can set the whole set of 60k training samples\n",
    "n = 1_000\n",
    "x_tr, y_tr = train_images[:n], train_labels[:n]\n",
    "x_tst, y_tst = test_images[:n], test_labels[:n]\n",
    "\n",
    "# примерные/ориентировочные результаты\n",
    "# 1k: 87.4; 888ms\n",
    "# 60k: 91.4; 1.5min\n",
    "_ = test_bare_classification(x_tr, y_tr, x_tst, y_tst)"
   ]
  },
  {
   "cell_type": "markdown",
   "metadata": {},
   "source": [
    "## 03. Spatial Pooler: skeleton\n",
    "\n",
    "Временно сделаем пустой класс Spatial Pooler'а заглушку, чтобы дальше ввести весь необходимый auxiliary код для обучения и тестирования."
   ]
  },
  {
   "cell_type": "code",
   "execution_count": 8,
   "metadata": {},
   "outputs": [
    {
     "name": "stdout",
     "output_type": "stream",
     "text": [
      "91 784\n"
     ]
    }
   ],
   "source": [
    "from tqdm import tqdm\n",
    "\n",
    "\n",
    "class NoOpSpatialPooler:\n",
    "    def __init__(self, input_size):\n",
    "        self.input_size = input_size\n",
    "        self.output_size = input_size\n",
    "        \n",
    "    def compute(self, dense_sdr, learn):\n",
    "        # просто отдает вход на выход\n",
    "        return np.flatnonzero(dense_sdr)\n",
    "    \n",
    "    def show(self):\n",
    "        pass\n",
    "        \n",
    "\n",
    "np.random.seed(seed)\n",
    "sp = NoOpSpatialPooler(train_images[0].size)\n",
    "sparse_sdr = sp.compute(train_images[0], True)\n",
    "\n",
    "print(sparse_sdr.size, sp.output_size)\n",
    "assert sparse_sdr.size < sp.output_size"
   ]
  },
  {
   "cell_type": "markdown",
   "metadata": {},
   "source": [
    "## 04. Train/test SP performance aux pipeline\n",
    "\n",
    "Ниже непосредственно код для обучения и тестирования классификации с использованием Spatial Pooler'а. Общая схема следующая - мы обучаем SP на train set'е, а дальше SDR векторы на выходе из SP используем в кач-ве входных данных для логрег классификатора в надежде, что эти данные разделимы еще лучше, то есть что качество классификации улучшится.\n",
    "\n",
    "__NB__: Не удивляйся, в реализации ниже обучение идет в немного полуонлайн режиме - делается небольшой претрейн, а потом полностью онлайн. Претрейн делаем для прогрева SP, тк на ранних стадиях обучения он слишком сильно меняет выходную кодировку."
   ]
  },
  {
   "cell_type": "code",
   "execution_count": 9,
   "metadata": {},
   "outputs": [
    {
     "name": "stderr",
     "output_type": "stream",
     "text": [
      "100%|██████████████████████████████████████████████████████████████████████████| 1000/1000 [00:00<00:00, 101557.00it/s]\n",
      "100%|██████████████████████████████████████████████████████████████████████████| 1000/1000 [00:00<00:00, 124971.81it/s]"
     ]
    },
    {
     "name": "stdout",
     "output_type": "stream",
     "text": [
      "Score: 87.4% for n = 1000\n",
      "CPU times: total: 15.6 ms\n",
      "Wall time: 1.69 s\n"
     ]
    },
    {
     "name": "stderr",
     "output_type": "stream",
     "text": [
      "\n"
     ]
    },
    {
     "data": {
      "text/plain": [
       "0.874"
      ]
     },
     "execution_count": 9,
     "metadata": {},
     "output_type": "execute_result"
    }
   ],
   "source": [
    "%%time\n",
    "\n",
    "def pretrain_sp(sp, images, n_samples):\n",
    "    \n",
    "    for img in images[:n_samples]:\n",
    "        sp.compute(img, True)\n",
    "    \n",
    "def encode_to_csr_with_sp(images, sp, learn):\n",
    "    flatten_encoded_sdrs = []\n",
    "    indptr = [0]\n",
    "    for img in tqdm(images):\n",
    "        encoded_sparse_sdr = sp.compute(img, learn)\n",
    "        flatten_encoded_sdrs.extend(encoded_sparse_sdr)\n",
    "        indptr.append(len(flatten_encoded_sdrs))\n",
    "#         if i % 100 == 0:\n",
    "#             sp.show()\n",
    "\n",
    "    data = np.ones(len(flatten_encoded_sdrs))\n",
    "    csr = csr_matrix((data, flatten_encoded_sdrs, indptr), shape=(images.shape[0], sp.output_size))\n",
    "    return csr\n",
    "\n",
    "def test_classification_with_sp(x_tr,  y_tr, x_tst, y_tst, sp):\n",
    "    # a small pretrain SP before real work\n",
    "    pretrain_sp(sp, x_tr, n_samples=1000)\n",
    "    \n",
    "    # encode images and continuously train SP\n",
    "    csr = encode_to_csr_with_sp(x_tr, sp, learn=True)\n",
    "    \n",
    "    # train linreg\n",
    "    linreg = LogisticRegression(tol=.05, max_iter=LBFGS_MAX_ITER, multi_class='multinomial', penalty='l2', solver='lbfgs', n_jobs=3)\n",
    "    linreg.fit(csr, y_tr)\n",
    "    \n",
    "    # encode test images (without SP learning) and then test score\n",
    "    csr = encode_to_csr_with_sp(x_tst, sp, False)\n",
    "    score = linreg.predict(csr) == y_tst\n",
    "    score = score.mean()\n",
    "    print(f'Score: {100 * score:.1f}% for n = {len(x_tr)}')\n",
    "    return score\n",
    "\n",
    "n = 1000\n",
    "x_tr, y_tr = train_images[:n], train_labels[:n]\n",
    "x_tst, y_tst = test_images[:n], test_labels[:n]\n",
    "my_sp = NoOpSpatialPooler(train_images[0].size)\n",
    "\n",
    "# 87.3; 1.16s\n",
    "test_classification_with_sp(x_tr, y_tr, x_tst, y_tst, my_sp)"
   ]
  },
  {
   "cell_type": "markdown",
   "metadata": {},
   "source": [
    "## 05. Spatial Pooler: learning\n",
    "\n",
    "__Здесь начинается практическое задание__\n",
    "\n",
    "В этой части требуется реализовать простую версию SP с обучением как описано в видео htm scool до бустинга (т.е. бустинг пока не нужен)."
   ]
  },
  {
   "cell_type": "code",
   "execution_count": 43,
   "metadata": {},
   "outputs": [
    {
     "name": "stdout",
     "output_type": "stream",
     "text": [
      "4 100 4\n"
     ]
    },
    {
     "data": {
      "text/plain": [
       "array([22, 30, 44, 71], dtype=int64)"
      ]
     },
     "execution_count": 43,
     "metadata": {},
     "output_type": "execute_result"
    }
   ],
   "source": [
    "import scipy.stats as sps\n",
    "from IPython.display import clear_output\n",
    "import time\n",
    "\n",
    "class LearnableSpatialPooler:\n",
    "    def __init__(\n",
    "        self, input_size, output_size, permanence_threshold, output_sparsity, \n",
    "        synapse_permanence_deltas, receptive_field_sparsity\n",
    "    ):\n",
    "        '''\n",
    "        params:\n",
    "            `input_size` - the size of the input SDR\n",
    "            `output_size` - the size of the output SDR\n",
    "            `permanence_threshold` - value in [0, 1], defines whether or not a connection is active\n",
    "            `output_sparsity` - value in [0, 1], defines desired output SDR sparsity, e.g. 0.02 is 2% sparsity\n",
    "            `synapse_permanence_deltas` - tuple of (p+, p-), defines permanence increment/decrement for learning\n",
    "            `receptive_field_sparsity` - value in [0, 1], defines the fraction of _potential_ synapses\n",
    "        '''\n",
    "        self.input_size = input_size\n",
    "        self.output_size = output_size\n",
    "        \n",
    "        self.permanence_threshold = permanence_threshold\n",
    "        self.output_sparsity = output_sparsity\n",
    "        self.synapse_permanence_deltas = synapse_permanence_deltas\n",
    "        self.receptive_field_sparsity = receptive_field_sparsity  \n",
    "        \n",
    "        self.num_connections = int(input_size * receptive_field_sparsity)\n",
    "        \n",
    "        self.k = int(output_size * output_sparsity)\n",
    "        \n",
    "        self.connect_inds = np.array([np.random.choice(np.arange(self.input_size), \n",
    "                                         size=self.num_connections, replace=False) for _ in range(self.output_size)])\n",
    "        \n",
    "        stdv = 1./np.sqrt(self.output_size)\n",
    "        self.permanences = np.random.uniform(permanence_threshold-stdv, permanence_threshold+stdv, \n",
    "                                             size=(self.output_size, self.num_connections))\n",
    "        self.being_activated = []\n",
    "        \n",
    "    def reset_statistics(self):\n",
    "        self.being_activated = []\n",
    "        \n",
    "    def show(self):\n",
    "        active = self.activated_cols\n",
    "        clear_output()\n",
    "        arr = np.zeros(self.output_size)\n",
    "        arr[active] = 1\n",
    "        plt.imshow(arr.reshape(int(np.sqrt(self.output_size)), -1))\n",
    "        plt.show()\n",
    "        \n",
    "        \n",
    "    def compute(self, dense_sdr, learn):\n",
    "        '''\n",
    "        params:\n",
    "            `dense_sdr` - input SDR in dense for, i.e. as np.array\n",
    "            `learn` - bool flag, whether or not to do a learning step\n",
    "        \n",
    "        returns:\n",
    "            a list of activated columns indices\n",
    "        '''\n",
    "        \n",
    "        # TODO: compute and learn\n",
    "        active_input_mask = (self.permanences > self.permanence_threshold).astype(np.int8)\n",
    "        p_plus, p_minus = self.synapse_permanence_deltas\n",
    "        \n",
    "        overlaps = np.sum(dense_sdr[self.connect_inds] * active_input_mask, axis=1)\n",
    "#         overlaps = [] \n",
    "#         for i in range(len(self.connect_inds)):\n",
    "#             active_inds = self.connect_inds[i][active_input_mask[i]]\n",
    "#             active_input = dense_sdr[active_inds]\n",
    "#             overlap = np.sum(active_input)\n",
    "#             overlaps.append(overlap)\n",
    "            \n",
    "        #overlaps    = np.array(overlaps)\n",
    "        activated_cols = np.argsort(overlaps)[::-1][:self.k]\n",
    "        self.being_activated.extend(activated_cols.tolist())\n",
    "        \n",
    "        \n",
    "        if learn:\n",
    "            for ind in activated_cols:\n",
    "                input_inds = self.connect_inds[ind]                      # inds num_connections size\n",
    "                input_overlap_inds    = input_inds[dense_sdr[input_inds] == 1]\n",
    "                overlap_inds    = np.where(np.isin(self.connect_inds[ind], input_overlap_inds   ))[0]\n",
    "                # disconnect_inds = np.where(np.isin(self.connect_inds[ind], input_disconnect_inds))[0]\n",
    "                self.permanences[ind][overlap_inds] += p_plus + p_minus\n",
    "                self.permanences[ind] -= p_minus\n",
    "\n",
    "            self.permanences = np.clip(self.permanences, 0, 1)\n",
    "\n",
    "        self.activated_cols = activated_cols\n",
    "        \n",
    "        self.n_active_bits = len(activated_cols)\n",
    "        # make sure that activated_cols is array of indices, not a whole binary vector\n",
    "        return activated_cols\n",
    "\n",
    "        \n",
    "np.random.seed(seed)\n",
    "sp = LearnableSpatialPooler(\n",
    "    input_size=train_images[0].size,\n",
    "    output_size=10**2,\n",
    "    permanence_threshold=0.5,\n",
    "    output_sparsity=.04,\n",
    "    synapse_permanence_deltas=(.01, .03),\n",
    "    receptive_field_sparsity=.8\n",
    ")\n",
    "sparse_sdr = sp.compute(train_images[0], True)\n",
    "\n",
    "print(sparse_sdr.size, sp.output_size, sp.n_active_bits)\n",
    "assert sparse_sdr.size == sp.n_active_bits\n",
    "sparse_sdr"
   ]
  },
  {
   "cell_type": "code",
   "execution_count": 783,
   "metadata": {},
   "outputs": [
    {
     "name": "stdout",
     "output_type": "stream",
     "text": [
      "[0.47337718 0.46490907 0.45104001 0.5640866  0.63017347 0.48509768]\n",
      "[0.44337718 0.43490907 0.42104001 0.5340866  0.69017347 0.45509768]\n",
      "[0.41337718 0.40490907 0.39104001 0.5040866  0.75017347 0.42509768]\n",
      "[0.38337718 0.37490907 0.36104001 0.4740866  0.81017347 0.39509768]\n",
      "[0.35337718 0.34490907 0.33104001 0.4440866  0.87017347 0.36509768]\n",
      "[0.32337718 0.31490907 0.30104001 0.4140866  0.93017347 0.33509768]\n",
      "[0.29337718 0.28490907 0.27104001 0.3840866  0.99017347 0.30509768]\n",
      "[0.26337718 0.25490907 0.24104001 0.3540866  1.         0.27509768]\n",
      "[0.23337718 0.22490907 0.21104001 0.3240866  1.         0.24509768]\n",
      "[0.20337718 0.19490907 0.18104001 0.2940866  1.         0.21509768]\n"
     ]
    }
   ],
   "source": [
    "np.random.seed(seed)\n",
    "sp = LearnableSpatialPooler(\n",
    "    input_size=train_images[0].size,\n",
    "    output_size=10**2,\n",
    "    permanence_threshold=0.5,\n",
    "    output_sparsity=.04,\n",
    "    synapse_permanence_deltas=(.06, .03),\n",
    "    receptive_field_sparsity=.8\n",
    ")\n",
    "\n",
    "for i in range(10):\n",
    "    sp.compute(train_images[0], True)\n",
    "    print(sp.permanences[22][60:66])"
   ]
  },
  {
   "cell_type": "code",
   "execution_count": 780,
   "metadata": {},
   "outputs": [
    {
     "name": "stdout",
     "output_type": "stream",
     "text": [
      "114\n",
      "324\n"
     ]
    }
   ],
   "source": [
    "print(sp.connect_inds[22, 63])\n",
    "print(sp.connect_inds[22, 64])"
   ]
  },
  {
   "cell_type": "code",
   "execution_count": 782,
   "metadata": {},
   "outputs": [
    {
     "data": {
      "text/plain": [
       "(0, 1)"
      ]
     },
     "execution_count": 782,
     "metadata": {},
     "output_type": "execute_result"
    }
   ],
   "source": [
    "train_images[0][114], train_images[0][324]"
   ]
  },
  {
   "cell_type": "code",
   "execution_count": 42,
   "metadata": {},
   "outputs": [
    {
     "name": "stdout",
     "output_type": "stream",
     "text": [
      "[0 1 0 1 1 1 1 0 1 1]\n"
     ]
    },
    {
     "data": {
      "text/plain": [
       "array([1, 0])"
      ]
     },
     "execution_count": 42,
     "metadata": {},
     "output_type": "execute_result"
    }
   ],
   "source": [
    "inputs = np.random.randint(0, 2, size=10)\n",
    "\n",
    "\n",
    "mask = np.array([[0, 1, 0],\n",
    "                 [0, 0, 0]])\n",
    "\n",
    "rfs = np.array([[0, 1, 5],\n",
    "                [4, 7, 8]])\n",
    "\n",
    "print(inputs)\n",
    "np.sum(inputs[rfs] * mask, axis=1)"
   ]
  },
  {
   "cell_type": "markdown",
   "metadata": {},
   "source": [
    "### 05.1. Naive SP performance\n",
    "\n",
    "Проверь качество работы своей реализации. В комментариях примерные значения для разных `n`, на которые можно попробовать ориентироваться:"
   ]
  },
  {
   "cell_type": "code",
   "execution_count": 44,
   "metadata": {
    "scrolled": false
   },
   "outputs": [
    {
     "name": "stderr",
     "output_type": "stream",
     "text": [
      "100%|███████████████████████████████████████████████████████████████████████████| 60000/60000 [06:06<00:00, 163.80it/s]\n",
      "100%|███████████████████████████████████████████████████████████████████████████| 10000/10000 [00:21<00:00, 466.51it/s]"
     ]
    },
    {
     "name": "stdout",
     "output_type": "stream",
     "text": [
      "Score: 86.9% for n = 60000\n",
      "CPU times: total: 5min 10s\n",
      "Wall time: 6min 57s\n"
     ]
    },
    {
     "name": "stderr",
     "output_type": "stream",
     "text": [
      "\n"
     ]
    },
    {
     "data": {
      "text/plain": [
       "0.8688"
      ]
     },
     "execution_count": 44,
     "metadata": {},
     "output_type": "execute_result"
    }
   ],
   "source": [
    "%%time\n",
    "\n",
    "np.random.seed(seed)\n",
    "n = 60000\n",
    "x_tr, y_tr = train_images[:n], train_labels[:n]\n",
    "x_tst, y_tst = test_images[:n], test_labels[:n]\n",
    "\n",
    "sp = LearnableSpatialPooler(\n",
    "    input_size=train_images[0].size, \n",
    "    output_size=30**2,\n",
    "    permanence_threshold=0.5,\n",
    "    output_sparsity=.04,\n",
    "    synapse_permanence_deltas=(.03, .03),\n",
    "    receptive_field_sparsity=.8\n",
    ")\n",
    "sp.reset_statistics()\n",
    "# my 60k 86.9, 11min 14s\n",
    "# 1k: 80.2; 2.98s\n",
    "# 60k: 89.3; 72 s\n",
    "test_classification_with_sp(x_tr, y_tr, x_tst, y_tst, sp)"
   ]
  },
  {
   "cell_type": "markdown",
   "metadata": {},
   "source": [
    "Интересная метрика оценки качества работы SP и вырожденности датасета - энтропия выходных активаций.\n",
    "\n",
    "Добавь либо в реализацию класса, либо где-то сбоку возможность учета статистики активаций выходных клеток (ты наверняка заметил, что обычно их контринтуитивно называют столбцами, что оч круто запутывает) и функцию подсчета энтропии на основе этой статистики. Собери такую статистику на одном прогоне на всем датасете и:\n",
    "\n",
    "- нарисуй гистограмму частоты активаций (с нормализацией, чтобы по оси Y были вероятности активации, а не их число)\n",
    "- посчитай энтропию $H = -\\sum p \\cdot \\log p$"
   ]
  },
  {
   "cell_type": "code",
   "execution_count": 34,
   "metadata": {},
   "outputs": [
    {
     "data": {
      "image/png": "[encoded data removed]",
      "text/plain": [
       "<Figure size 700x400 with 1 Axes>"
      ]
     },
     "metadata": {},
     "output_type": "display_data"
    }
   ],
   "source": [
    "noboosting_stats = sp.being_activated\n",
    "\n",
    "plt.figure(figsize=(7, 4))\n",
    "noboosting_data = plt.hist(noboosting_stats, bins=sp.output_size, density=True);"
   ]
  },
  {
   "cell_type": "code",
   "execution_count": 35,
   "metadata": {},
   "outputs": [
    {
     "data": {
      "text/plain": [
       "6.394748867644119"
      ]
     },
     "execution_count": 35,
     "metadata": {},
     "output_type": "execute_result"
    }
   ],
   "source": [
    "p = noboosting_data[0]\n",
    "H = -1 * np.sum(p * np.log(p))\n",
    "H"
   ]
  },
  {
   "cell_type": "code",
   "execution_count": 36,
   "metadata": {},
   "outputs": [
    {
     "name": "stderr",
     "output_type": "stream",
     "text": [
      "100%|████████████████████████████████████████████████████████████████████████████████| 900/900 [02:15<00:00,  6.62it/s]\n"
     ]
    }
   ],
   "source": [
    "frequences = []\n",
    "for i in tqdm(range(900)):\n",
    "    count = np.sum(np.array(noboosting_stats) == i)\n",
    "    frequences.append(count / len(noboosting_stats))"
   ]
  },
  {
   "cell_type": "code",
   "execution_count": 37,
   "metadata": {},
   "outputs": [],
   "source": [
    "def my_hist(x, bins, as_ratio=False):\n",
    "    x = np.array(x)\n",
    "    mn = min(x)\n",
    "    mx = max(x)\n",
    "    step = (mx - mn) / bins\n",
    "    \n",
    "    current = mn\n",
    "    mean_freqs = []\n",
    "    counts = []\n",
    "\n",
    "    for i in range(bins):\n",
    "        mask = (x >= current) * (x < (current + step))\n",
    "        count = mask.sum()\n",
    "        if count == 0:\n",
    "            mean_freq = 0\n",
    "        else:\n",
    "            mean_freq = x[mask].mean()\n",
    "        counts.append(count)\n",
    "        mean_freqs.append(mean_freq)\n",
    "        current += step\n",
    "\n",
    "    counts = np.array(counts)\n",
    "    if as_ratio:\n",
    "        return mean_freqs, counts / counts.sum(), step\n",
    "    return mean_freqs, counts, step"
   ]
  },
  {
   "cell_type": "code",
   "execution_count": 38,
   "metadata": {},
   "outputs": [
    {
     "data": {
      "image/png": "[encoded data removed]",
      "text/plain": [
       "<Figure size 640x480 with 1 Axes>"
      ]
     },
     "metadata": {},
     "output_type": "display_data"
    }
   ],
   "source": [
    "mean_freqs, ratios, step = my_hist(frequences, bins=40, as_ratio=True)\n",
    "\n",
    "plt.bar(mean_freqs, ratios, width=step*1.2)\n",
    "plt.xlabel(\"frequences\")\n",
    "plt.ylabel('ratio of activated neurons');"
   ]
  },
  {
   "cell_type": "code",
   "execution_count": 39,
   "metadata": {},
   "outputs": [
    {
     "data": {
      "text/plain": [
       "6.388755319977214"
      ]
     },
     "execution_count": 39,
     "metadata": {},
     "output_type": "execute_result"
    }
   ],
   "source": [
    "p = np.array(frequences)\n",
    "H = -1 * np.sum(p * np.log(p))\n",
    "H"
   ]
  },
  {
   "cell_type": "markdown",
   "metadata": {},
   "source": [
    "Теперь давай посмотрим, как выходной размер `output_size` влияет на качество работы. Протестируй разные значения `output_size` - например, $[10^2, 15^2,..., 55^2, 60^2]$ и отрисуй график зависимости [качества классификации, но можешь и времени работы тоже].\n",
    "\n",
    "_Можно для начала прикинуть для n=1000 и двигаться дальше, а позже пересчитать на всем датасете_"
   ]
  },
  {
   "cell_type": "code",
   "execution_count": 53,
   "metadata": {},
   "outputs": [],
   "source": [
    "n = 60000\n",
    "out_sizes = np.arange(10, 61, 5) ** 2\n",
    "noboost_results = []\n",
    "x_tr, y_tr = train_images[:n], train_labels[:n]\n",
    "x_tst, y_tst = test_images[:n], test_labels[:n]\n",
    "\n",
    "for out_size in out_sizes:\n",
    "    np.random.seed(seed)\n",
    "    sp = LearnableSpatialPooler(\n",
    "        input_size=train_images[0].size, \n",
    "        output_size=out_size,\n",
    "        permanence_threshold=0.5,\n",
    "        output_sparsity=.04,\n",
    "        synapse_permanence_deltas=(.03, .03),\n",
    "        receptive_field_sparsity=.8\n",
    "    )\n",
    "    sp.reset_statistics()\n",
    "    res = test_classification_with_sp(x_tr, y_tr, x_tst, y_tst, sp)\n",
    "    noboost_results.append(res)\n",
    "    clear_output()"
   ]
  },
  {
   "cell_type": "code",
   "execution_count": 54,
   "metadata": {},
   "outputs": [
    {
     "data": {
      "image/png": "[encoded data removed]",
      "text/plain": [
       "<Figure size 640x480 with 1 Axes>"
      ]
     },
     "metadata": {},
     "output_type": "display_data"
    }
   ],
   "source": [
    "plt.plot(out_sizes, noboost_results)\n",
    "plt.xlabel(\"Output size\")\n",
    "plt.ylabel(\"Accuracy\");"
   ]
  },
  {
   "cell_type": "markdown",
   "metadata": {},
   "source": [
    "## 06. Spatial Pooler: boosting\n",
    "\n",
    "В этом пункте требуется реализовать бустинг. Обрати внимание, в видео htm school речь ведется о бустинге overlap score на основе активности выходных ячеек -  именно такой вид бустинга и нужно реализовать. Еще есть бустинг значений permanence синапсов выходных ячеек, имеющих слишком низкое среднее значение overlap score за последние N итераций - рассмотрение этого вида бустинга оставим в стороне. Так что дальше под бустингом будет иметься в виду только первый вариант.\n",
    "\n",
    "Зададим параметр `max_boost_factor` $\\in [0, +\\infty)$. Можно по-разному задавать интерпретацию этого параметра, то есть как будет действовать бустинг. Например, можно дать возможность бустингу работать только в сторону усиления слабых — тогда параметр `max_boost_factor` $=K$ определяет, что значения overlap score под действием бустинга могут быть увеличены максимум в $1+K$ раз. То есть `max_boost_factor`$=1$ означает, что оверлапы могут быть увеличены максимум в два раза, а 0 — что бустинг отключен.\n",
    "\n",
    "Однако допустима и реализация, в которой бустинг работает в обе стороны — слабые колонки усиливает, а сильные наоборот ослабляет, и тогда пределы изменения для величины `max_boost_factor` $=K$: $[\\frac{1}{K}, K]$, то есть бустинг может и усилить, и ослабить максимум в $K$ раз. В своей реализации выбери любой из этих вариантов."
   ]
  },
  {
   "cell_type": "code",
   "execution_count": 51,
   "metadata": {},
   "outputs": [
    {
     "data": {
      "text/plain": [
       "array([22, 30, 44, 71], dtype=int64)"
      ]
     },
     "execution_count": 51,
     "metadata": {},
     "output_type": "execute_result"
    }
   ],
   "source": [
    "class BoostedSpatialPooler:\n",
    "    def __init__(\n",
    "        self, input_size, output_size, permanence_threshold, output_sparsity, synapse_permanence_deltas, receptive_field_sparsity,\n",
    "        max_boost_factor, boost_sliding_window\n",
    "    ):\n",
    "        '''\n",
    "        params:\n",
    "            `input_size` - the size of the input SDR\n",
    "            `output_size` - the size of the output SDR\n",
    "            `permanence_threshold` - value in [0, 1], defines whether or not a connection is active\n",
    "            `output_sparsity` - value in [0, 1], defines desired output SDR sparsity, e.g. 0.02 is 2% sparsity\n",
    "            `synapse_permanence_deltas` - tuple of (p+, p-), defines permanence increment/decrement for learning\n",
    "            `receptive_field_sparsity` - value in [0, 1], defines the fraction of _potential_ synapses\n",
    "            `max_boost_factor` - value in [0, +inf), defines maximum allowed boosting. Boosting value X > 0 (X < 0) means that overlap is multiplied (divided) by `1 + X`.\n",
    "            `boost_sliding_window` - value in [1, +inf), defines the size of the window for moving avg output column activity\n",
    "        '''\n",
    "        self.input_size = input_size\n",
    "        self.output_size = output_size\n",
    "        \n",
    "        self.permanence_threshold = permanence_threshold\n",
    "        self.output_sparsity = output_sparsity\n",
    "        self.synapse_permanence_deltas = synapse_permanence_deltas\n",
    "        self.receptive_field_sparsity = receptive_field_sparsity  \n",
    "        \n",
    "        self.num_connections = int(input_size * receptive_field_sparsity)\n",
    "        \n",
    "        self.k = int(output_size * output_sparsity)\n",
    "        \n",
    "        self.connect_inds = np.array([np.random.choice(np.arange(self.input_size), \n",
    "                                         size=self.num_connections, replace=False) for _ in range(self.output_size)])\n",
    "        \n",
    "        stdv = 1./np.sqrt(self.output_size)\n",
    "        self.permanences = np.random.uniform(permanence_threshold-stdv, permanence_threshold+stdv, \n",
    "                                             size=(self.output_size, self.num_connections))\n",
    "        \n",
    "        self.max_boost_factor = max_boost_factor\n",
    "        self.T = boost_sliding_window\n",
    "        self.mean_acts = np.zeros(self.output_size)\n",
    "        self.curr_acts = np.zeros(self.output_size)\n",
    "        self.boosting_factors = np.ones(self.output_size)\n",
    "        self.beta = 1\n",
    "        \n",
    "        self.being_activated = []\n",
    "        \n",
    "        \n",
    "    def reset_statistics(self):\n",
    "        self.being_activated = []\n",
    "        \n",
    "        \n",
    "    def compute_average(self, current):\n",
    "        self.mean_acts = ((self.T - 1) * self.mean_acts + current) / self.T\n",
    "        \n",
    "    def compute_neighbours_activity(self):\n",
    "        return (np.sum(self.mean_acts) - self.mean_acts) / (self.mean_acts.shape[0] - 1)\n",
    "    \n",
    "    def compute_boosting_coefs(self):\n",
    "        K = self.max_boost_factor\n",
    "        boost = np.exp(- self.beta * (self.mean_acts - self.compute_neighbours_activity()))\n",
    "        self.boosting_factors = np.clip(boost, 1/K, K)\n",
    "        \n",
    "        \n",
    "    def show(self):\n",
    "        active = self.activated_cols\n",
    "        clear_output()\n",
    "        arr = np.zeros(self.output_size)\n",
    "        arr[active] = 1\n",
    "        plt.imshow(arr.reshape(int(np.sqrt(self.output_size)), -1))\n",
    "        plt.show()\n",
    "        \n",
    "        \n",
    "    def compute(self, dense_sdr, learn):\n",
    "        '''\n",
    "        params:\n",
    "            `dense_sdr` - input SDR in dense for, i.e. as np.array\n",
    "            `learn` - bool flag, whether or not to do a learning step\n",
    "        \n",
    "        returns:\n",
    "            a list of activated columns indices\n",
    "        '''\n",
    "        \n",
    "        # TODO: compute and learn\n",
    "        active_input_mask = self.permanences > self.permanence_threshold\n",
    "        p_plus, p_minus = self.synapse_permanence_deltas\n",
    "#         overlaps = []\n",
    "        \n",
    "        self.compute_average(self.curr_acts)\n",
    "        self.compute_boosting_coefs()\n",
    "        overlaps = np.sum(dense_sdr[self.connect_inds] * active_input_mask, axis=1) * self.boosting_factors\n",
    "\n",
    "#         for i in range(len(self.connect_inds)):\n",
    "#             active_inds = self.connect_inds[i][active_input_mask[i]]\n",
    "#             active_input = dense_sdr[active_inds]\n",
    "#             overlap = np.sum(active_input) * self.boosting_factors[i]\n",
    "#             overlaps.append(overlap)\n",
    "            \n",
    "        overlaps    = np.array(overlaps)\n",
    "        activated_cols = np.argsort(overlaps)[::-1][:self.k]\n",
    "        self.curr_acts = np.zeros(self.output_size)\n",
    "        self.curr_acts[activated_cols] = 1\n",
    "        self.being_activated.extend(activated_cols.tolist())\n",
    "        \n",
    "        \n",
    "        if learn:\n",
    "            for ind in activated_cols:\n",
    "                input_inds = self.connect_inds[ind]                      # inds num_connections size\n",
    "                input_overlap_inds    = input_inds[dense_sdr[input_inds] == 1]\n",
    "                overlap_inds    = np.where(np.isin(self.connect_inds[ind], input_overlap_inds   ))[0]\n",
    "                # disconnect_inds = np.where(np.isin(self.connect_inds[ind], input_disconnect_inds))[0]\n",
    "                self.permanences[ind][overlap_inds] += p_plus + p_minus\n",
    "                self.permanences[ind] -= p_minus\n",
    "\n",
    "            self.permanences = np.clip(self.permanences, 0, 1)\n",
    "\n",
    "        self.activated_cols = activated_cols\n",
    "        \n",
    "        self.n_active_bits = len(activated_cols)\n",
    "        # make sure that activated_cols is array of indices, not a whole binary vector\n",
    "        return activated_cols\n",
    "        \n",
    "\n",
    "np.random.seed(seed)\n",
    "my_sp = BoostedSpatialPooler(\n",
    "    train_images[0].size, output_size=10**2, permanence_threshold=.5, output_sparsity=.04, synapse_permanence_deltas=(.1, .02), \n",
    "    receptive_field_sparsity=.8, max_boost_factor=0.5, boost_sliding_window=1000\n",
    ")\n",
    "my_sp.compute(train_images[0], True)"
   ]
  },
  {
   "cell_type": "markdown",
   "metadata": {},
   "source": [
    "### 06.1. SP with boosting performance\n",
    "\n",
    "_Дальше все как и в пункте 05.1_\n",
    "\n",
    "Проверь качество работы своей реализации. В комментариях по-прежнему примерные значения для разных `n`, на которые можно попробовать ориентироваться:"
   ]
  },
  {
   "cell_type": "code",
   "execution_count": 52,
   "metadata": {},
   "outputs": [
    {
     "name": "stderr",
     "output_type": "stream",
     "text": [
      "100%|███████████████████████████████████████████████████████████████████████████| 60000/60000 [05:45<00:00, 173.85it/s]\n",
      "100%|███████████████████████████████████████████████████████████████████████████| 10000/10000 [00:21<00:00, 471.06it/s]\n"
     ]
    },
    {
     "name": "stdout",
     "output_type": "stream",
     "text": [
      "Score: 88.2% for n = 60000\n",
      "CPU times: total: 5min 3s\n",
      "Wall time: 6min 32s\n"
     ]
    },
    {
     "data": {
      "text/plain": [
       "0.882"
      ]
     },
     "execution_count": 52,
     "metadata": {},
     "output_type": "execute_result"
    }
   ],
   "source": [
    "%%time\n",
    "\n",
    "np.random.seed(seed)\n",
    "n = 60000\n",
    "x_tr, y_tr = train_images[:n], train_labels[:n]\n",
    "x_tst, y_tst = test_images[:n], test_labels[:n]\n",
    "\n",
    "sp = BoostedSpatialPooler(\n",
    "    input_size=train_images[0].size, \n",
    "    output_size=30**2,\n",
    "    permanence_threshold=.5,\n",
    "    output_sparsity=.04,\n",
    "    synapse_permanence_deltas=(.03, .03),\n",
    "    receptive_field_sparsity=.8,\n",
    "    max_boost_factor=2,\n",
    "    boost_sliding_window=1000\n",
    ")\n",
    "# 1k: 84.0; 3.24 s\n",
    "# 60k: 91.15; 86 s\n",
    "test_classification_with_sp(x_tr, y_tr, x_tst, y_tst, sp)"
   ]
  },
  {
   "cell_type": "markdown",
   "metadata": {},
   "source": [
    "- нарисуй гистограмму вероятностей активаций\n",
    "- посчитай энтропию $H = -\\sum p \\cdot \\log p$\n",
    "- сравни с результатами без бустинга - есть какие-то очевидные выводы?"
   ]
  },
  {
   "cell_type": "code",
   "execution_count": 23,
   "metadata": {},
   "outputs": [
    {
     "data": {
      "image/png": "[encoded data removed]",
      "text/plain": [
       "<Figure size 700x400 with 1 Axes>"
      ]
     },
     "metadata": {},
     "output_type": "display_data"
    }
   ],
   "source": [
    "boosting_stats = sp.being_activated\n",
    "\n",
    "plt.figure(figsize=(7, 4))\n",
    "boosting_data = plt.hist(boosting_stats, bins=sp.output_size, density=True);"
   ]
  },
  {
   "cell_type": "code",
   "execution_count": 40,
   "metadata": {},
   "outputs": [
    {
     "data": {
      "text/plain": [
       "6.523860879440307"
      ]
     },
     "execution_count": 40,
     "metadata": {},
     "output_type": "execute_result"
    }
   ],
   "source": [
    "p = boosting_data[0]\n",
    "H = -1 * np.sum(p * np.log(p))\n",
    "H"
   ]
  },
  {
   "cell_type": "code",
   "execution_count": 41,
   "metadata": {},
   "outputs": [
    {
     "name": "stderr",
     "output_type": "stream",
     "text": [
      "100%|████████████████████████████████████████████████████████████████████████████████| 900/900 [01:52<00:00,  8.02it/s]\n"
     ]
    }
   ],
   "source": [
    "frequences = []\n",
    "for i in tqdm(range(900)):\n",
    "    count = np.sum(np.array(boosting_stats) == i)\n",
    "    frequences.append(count / len(boosting_stats))"
   ]
  },
  {
   "cell_type": "code",
   "execution_count": 43,
   "metadata": {},
   "outputs": [
    {
     "data": {
      "image/png": "[encoded data removed]",
      "text/plain": [
       "<Figure size 640x480 with 1 Axes>"
      ]
     },
     "metadata": {},
     "output_type": "display_data"
    }
   ],
   "source": [
    "b_mean_freqs, b_ratios, b_step = my_hist(frequences, bins=40, as_ratio=True)\n",
    "\n",
    "plt.bar(mean_freqs, ratios, width=step*1.2, label='No boosting', alpha=0.4)\n",
    "plt.bar(b_mean_freqs, b_ratios, width=b_step*1.2, label='Boosting', alpha=0.4)\n",
    "plt.legend()\n",
    "plt.xlabel(\"frequences\")\n",
    "plt.ylabel('ratio of activated neurons');"
   ]
  },
  {
   "cell_type": "markdown",
   "metadata": {},
   "source": [
    "Протестируй разные значения `output_size` - например, $[10^2, 15^2,..., 55^2, 60^2]$ и отрисуй график зависимости [качества классификации, но можешь и времени работы тоже].\n",
    "\n",
    "Сравни с результатами без бустинга"
   ]
  },
  {
   "cell_type": "code",
   "execution_count": 50,
   "metadata": {},
   "outputs": [
    {
     "data": {
      "text/plain": [
       "6.517723873982513"
      ]
     },
     "execution_count": 50,
     "metadata": {},
     "output_type": "execute_result"
    }
   ],
   "source": [
    "p = np.array(frequences)\n",
    "H = -1 * np.sum(p * np.log(p))\n",
    "H"
   ]
  },
  {
   "cell_type": "code",
   "execution_count": 55,
   "metadata": {},
   "outputs": [],
   "source": [
    "n = 60000\n",
    "out_sizes = np.arange(10, 61, 5) ** 2\n",
    "boost_results = []\n",
    "x_tr, y_tr = train_images[:n], train_labels[:n]\n",
    "x_tst, y_tst = test_images[:n], test_labels[:n]\n",
    "\n",
    "for out_size in out_sizes:\n",
    "    np.random.seed(seed)\n",
    "    sp = BoostedSpatialPooler(\n",
    "        input_size=train_images[0].size, \n",
    "        output_size=out_size,\n",
    "        permanence_threshold=.5,\n",
    "        output_sparsity=.04,\n",
    "        synapse_permanence_deltas=(.03, .03),\n",
    "        receptive_field_sparsity=.8,\n",
    "        max_boost_factor=2,\n",
    "        boost_sliding_window=1000\n",
    "    )\n",
    "    sp.reset_statistics()\n",
    "    res = test_classification_with_sp(x_tr, y_tr, x_tst, y_tst, sp)\n",
    "    boost_results.append(res)\n",
    "    clear_output()"
   ]
  },
  {
   "cell_type": "code",
   "execution_count": 56,
   "metadata": {},
   "outputs": [
    {
     "data": {
      "image/png": "[encoded data removed]",
      "text/plain": [
       "<Figure size 640x480 with 1 Axes>"
      ]
     },
     "metadata": {},
     "output_type": "display_data"
    }
   ],
   "source": [
    "plt.plot(out_sizes, noboost_results, label=\"No boosting\")\n",
    "plt.plot(out_sizes, boost_results, label=\"Boosting\")\n",
    "plt.legend()\n",
    "plt.xlabel(\"Output size\")\n",
    "plt.ylabel(\"Accuracy\");"
   ]
  },
  {
   "cell_type": "markdown",
   "metadata": {},
   "source": [
    "___\n",
    "__[Опционально]__ можешь ради интереса поиграться с таким параметром как `receptive_field_sparsity`. Возьми в качестве выходного размера `output_size` = $50^2$ и проверь результаты на разных значениях параметра $[0.4, 0.5, ..., 1.0]$ и построй график зависимости."
   ]
  },
  {
   "cell_type": "code",
   "execution_count": 58,
   "metadata": {},
   "outputs": [],
   "source": [
    "n = 60000\n",
    "out_size = 50**2\n",
    "rf_sparsities = np.arange(0.4, 1.1, 0.1)\n",
    "rfs_results = []\n",
    "x_tr, y_tr = train_images[:n], train_labels[:n]\n",
    "x_tst, y_tst = test_images[:n], test_labels[:n]\n",
    "\n",
    "for rf_spars in rf_sparsities:\n",
    "    np.random.seed(seed)\n",
    "    sp = BoostedSpatialPooler(\n",
    "        input_size=train_images[0].size, \n",
    "        output_size=out_size,\n",
    "        permanence_threshold=.5,\n",
    "        output_sparsity=.04,\n",
    "        synapse_permanence_deltas=(.03, .03),\n",
    "        receptive_field_sparsity=rf_spars,\n",
    "        max_boost_factor=2,\n",
    "        boost_sliding_window=1000\n",
    "    )\n",
    "    sp.reset_statistics()\n",
    "    res = test_classification_with_sp(x_tr, y_tr, x_tst, y_tst, sp)\n",
    "    rfs_results.append(res)\n",
    "    clear_output()"
   ]
  },
  {
   "cell_type": "code",
   "execution_count": 59,
   "metadata": {},
   "outputs": [
    {
     "data": {
      "image/png": "[encoded data removed]",
      "text/plain": [
       "<Figure size 640x480 with 1 Axes>"
      ]
     },
     "metadata": {},
     "output_type": "display_data"
    }
   ],
   "source": [
    "plt.plot(rf_sparsities, rfs_results, label=\"Boosting\")\n",
    "plt.legend()\n",
    "plt.xlabel(\"Receptive field sparsity\")\n",
    "plt.ylabel(\"Accuracy\");"
   ]
  },
  {
   "cell_type": "markdown",
   "metadata": {},
   "source": [
    "## 07. TESTING\n",
    "\n",
    "Дальше просто сравнительное тестирование получившихся результатов."
   ]
  },
  {
   "cell_type": "code",
   "execution_count": 44,
   "metadata": {},
   "outputs": [],
   "source": [
    "n = 60000\n",
    "x_tr, y_tr = train_images[:n], train_labels[:n]\n",
    "x_tst, y_tst = test_images[:n], test_labels[:n]"
   ]
  },
  {
   "cell_type": "code",
   "execution_count": 45,
   "metadata": {},
   "outputs": [
    {
     "name": "stdout",
     "output_type": "stream",
     "text": [
      "Score: 91.4%\n",
      "CPU times: total: 297 ms\n",
      "Wall time: 2min 41s\n"
     ]
    },
    {
     "data": {
      "text/plain": [
       "0.9143"
      ]
     },
     "execution_count": 45,
     "metadata": {},
     "output_type": "execute_result"
    }
   ],
   "source": [
    "%%time\n",
    "\n",
    "def test_bare_classification(x_tr,  y_tr, x_tst, y_tst):\n",
    "    linreg = LogisticRegression(tol=.05, max_iter=LBFGS_MAX_ITER, multi_class='multinomial', penalty='l2', solver='lbfgs', n_jobs=3)\n",
    "    linreg.fit(x_tr, y_tr)\n",
    "    \n",
    "    score = linreg.predict(x_tst) == y_tst\n",
    "    score = score.mean()\n",
    "    print(f'Score: {100 * score:.1f}%')\n",
    "    return score\n",
    "\n",
    "np.random.seed(seed)\n",
    "# 92.11; 38s\n",
    "test_bare_classification(x_tr, y_tr, x_tst, y_tst)"
   ]
  },
  {
   "cell_type": "code",
   "execution_count": 46,
   "metadata": {},
   "outputs": [
    {
     "name": "stderr",
     "output_type": "stream",
     "text": [
      "100%|████████████████████████████████████████████████████████████████████████████| 60000/60000 [10:44<00:00, 93.16it/s]\n",
      "100%|███████████████████████████████████████████████████████████████████████████| 10000/10000 [01:07<00:00, 147.88it/s]"
     ]
    },
    {
     "name": "stdout",
     "output_type": "stream",
     "text": [
      "Score: 76.2% for n = 60000\n",
      "CPU times: total: 9min 38s\n",
      "Wall time: 12min 33s\n"
     ]
    },
    {
     "name": "stderr",
     "output_type": "stream",
     "text": [
      "\n"
     ]
    },
    {
     "data": {
      "text/plain": [
       "0.7621"
      ]
     },
     "execution_count": 46,
     "metadata": {},
     "output_type": "execute_result"
    }
   ],
   "source": [
    "%%time\n",
    "\n",
    "np.random.seed(seed)\n",
    "sp = LearnableSpatialPooler(\n",
    "    input_size=train_images[0].size, \n",
    "    output_size=30**2,\n",
    "    permanence_threshold=.5,\n",
    "    output_sparsity=.04,\n",
    "    synapse_permanence_deltas=(.1, .03),\n",
    "    receptive_field_sparsity=.8,\n",
    ")\n",
    "# 89.3; 72 s\n",
    "test_classification_with_sp(x_tr, y_tr, x_tst, y_tst, sp)"
   ]
  },
  {
   "cell_type": "code",
   "execution_count": 47,
   "metadata": {},
   "outputs": [
    {
     "name": "stderr",
     "output_type": "stream",
     "text": [
      "100%|████████████████████████████████████████████████████████████████████████████| 60000/60000 [29:39<00:00, 33.71it/s]\n",
      "100%|████████████████████████████████████████████████████████████████████████████| 10000/10000 [03:13<00:00, 51.76it/s]\n"
     ]
    },
    {
     "name": "stdout",
     "output_type": "stream",
     "text": [
      "Score: 80.9% for n = 60000\n",
      "CPU times: total: 26min 3s\n",
      "Wall time: 34min 30s\n"
     ]
    },
    {
     "data": {
      "text/plain": [
       "0.8094"
      ]
     },
     "execution_count": 47,
     "metadata": {},
     "output_type": "execute_result"
    }
   ],
   "source": [
    "%%time\n",
    "\n",
    "np.random.seed(seed)\n",
    "sp = LearnableSpatialPooler(\n",
    "    input_size=train_images[0].size, \n",
    "    output_size=50**2,\n",
    "    permanence_threshold=.5,\n",
    "    output_sparsity=.04,\n",
    "    synapse_permanence_deltas=(.1, .03),\n",
    "    receptive_field_sparsity=.8,\n",
    ")\n",
    "# 93.15; 221 s\n",
    "test_classification_with_sp(x_tr, y_tr, x_tst, y_tst, sp)"
   ]
  },
  {
   "cell_type": "code",
   "execution_count": 48,
   "metadata": {},
   "outputs": [
    {
     "name": "stderr",
     "output_type": "stream",
     "text": [
      "100%|████████████████████████████████████████████████████████████████████████████| 60000/60000 [10:40<00:00, 93.71it/s]\n",
      "100%|███████████████████████████████████████████████████████████████████████████| 10000/10000 [01:12<00:00, 137.46it/s]\n"
     ]
    },
    {
     "name": "stdout",
     "output_type": "stream",
     "text": [
      "Score: 86.4% for n = 60000\n",
      "CPU times: total: 10min 1s\n",
      "Wall time: 12min 26s\n"
     ]
    },
    {
     "data": {
      "text/plain": [
       "0.8641"
      ]
     },
     "execution_count": 48,
     "metadata": {},
     "output_type": "execute_result"
    }
   ],
   "source": [
    "%%time\n",
    "\n",
    "np.random.seed(seed)\n",
    "sp = BoostedSpatialPooler(\n",
    "    input_size=train_images[0].size, \n",
    "    output_size=30**2,\n",
    "    permanence_threshold=.5,\n",
    "    output_sparsity=.04,\n",
    "    synapse_permanence_deltas=(.1, .03),\n",
    "    receptive_field_sparsity=.8,\n",
    "    max_boost_factor=2,\n",
    "    boost_sliding_window=1000\n",
    ")\n",
    "# 91.15; 86 s\n",
    "test_classification_with_sp(x_tr, y_tr, x_tst, y_tst, sp)"
   ]
  },
  {
   "cell_type": "code",
   "execution_count": 49,
   "metadata": {},
   "outputs": [
    {
     "name": "stderr",
     "output_type": "stream",
     "text": [
      "100%|████████████████████████████████████████████████████████████████████████████| 60000/60000 [37:00<00:00, 27.02it/s]\n",
      "100%|████████████████████████████████████████████████████████████████████████████| 10000/10000 [04:52<00:00, 34.13it/s]\n"
     ]
    },
    {
     "name": "stdout",
     "output_type": "stream",
     "text": [
      "Score: 89.4% for n = 60000\n",
      "CPU times: total: 13min 47s\n",
      "Wall time: 43min 56s\n"
     ]
    },
    {
     "data": {
      "text/plain": [
       "0.8936"
      ]
     },
     "execution_count": 49,
     "metadata": {},
     "output_type": "execute_result"
    }
   ],
   "source": [
    "%%time\n",
    "\n",
    "np.random.seed(seed)\n",
    "sp = BoostedSpatialPooler(\n",
    "    input_size=train_images[0].size, \n",
    "    output_size=50**2,\n",
    "    permanence_threshold=.5,\n",
    "    output_sparsity=.04,\n",
    "    synapse_permanence_deltas=(.1, .03),\n",
    "    receptive_field_sparsity=.8,\n",
    "    max_boost_factor=2,\n",
    "    boost_sliding_window=1000\n",
    ")\n",
    "# 94.44; 238 s\n",
    "test_classification_with_sp(x_tr, y_tr, x_tst, y_tst, sp)"
   ]
  },
  {
   "cell_type": "markdown",
   "metadata": {},
   "source": [
    "## Improve SP implementation\n",
    "\n",
    "Теперь, когда у тебя есть готовая реализация SpatialPooler, время для улучшения/ускорения реализации. Попробуй выполнить задания ниже.\n",
    "\n",
    "1. **Векторизация**: нужна векторизованная реализация, которая будет эффективно вычислять overlap score, boosting и все остальное. Важно ответить себе на вопрос, как организовать хранение рецептивных полей нейронов SP, как делать pattern matching для входного паттерна, как эффективно делать шаг обновления. Придется поиграться с разными реализациями, измеряя скорость их работы. Ну и вообще, сейчас самое время причесать свою реализациюи довести ее до финального вида.\n",
    "\n",
    "2. **Разреженные рецептивные поля**: можно ли улучшить качество работы SP, если уменьшить размеры рецептивных полей его нейронов (но возможно увеличив количество нейронов)? Зафиксируй какое-нибудь определенный лимит времени работы SP и попробуй варьировать эти два гиперпараметра (`receptive_field_sparsity` и `output_size`), чтобы оставаться в рамках лимита. Нарисуй график зависимости качества от этих двух параметров.\n",
    "\n",
    "3. [**СЛОЖНО**] **Newborn-stage**: В [On the importance of the newborn stage when learning patterns with the Spatial Pooler](https://link.springer.com/article/10.1007/s42979-022-01066-4) описана идея, что бустинг, вообще говоря, имеет и негативную сторону — он имеет смысл лишь на ранних стадиях формирования рецептивных полей нейронов. Но далее он только влечет к нестабильности (способствует дрифту кодировки на выходе из SP за счет переучивания его нейронов). Предлагается взять эту идею (статью подробно читать для этого не нужно) и добавить newborn stage в SP. Для этого сделай отдельную реализацию, чтобы у тебя была отдельная финальная версия без этой фичи, и отдельная уже с. Newborn stage будет разделен на K этапов, в процессе которых\n",
    "    1. Бустинг будет постепенно снижаться (например, линейно) к нулю\n",
    "    2. Рецептивные поля будут уменьшаться. Таким образом SP будет инициализироваться с большими рецептивными полями, но в процессе newborn stage они будут постепенно пруниться до целевых значений. Это позволит нам во взрослой стадии иметь быстрый (за счет маленьких рецептивных полей) SP с хорошо настроенными рецептивными полями, из-за чего качество будет не сильно хуже, чем если бы мы не прунили.\n",
    "   \n",
    "   Протестируй данную реализацию с разными настройками начального и конечного размера рецептивных полей."
   ]
  },
  {
   "cell_type": "code",
   "execution_count": 74,
   "metadata": {},
   "outputs": [],
   "source": [
    "from time import time, sleep\n",
    "\n",
    "rfss = np.arange(0.5, 0.81, 0.1)\n",
    "out_sizes = np.arange(20, 61, 10) ** 2\n",
    "result_heatmap = np.zeros((len(rfss), len(out_sizes)))\n",
    "time_heatmap = np.zeros((len(rfss), len(out_sizes)))\n",
    "\n",
    "n = 10000\n",
    "\n",
    "x_tr, y_tr = train_images[:n], train_labels[:n]\n",
    "x_tst, y_tst = test_images[:n], test_labels[:n]\n",
    "\n",
    "for i, rfs in enumerate(rfss):\n",
    "    for j, out_size in enumerate(out_sizes):\n",
    "        np.random.seed(seed)\n",
    "        sp = BoostedSpatialPooler(\n",
    "            input_size=train_images[0].size, \n",
    "            output_size=out_size,\n",
    "            permanence_threshold=.5,\n",
    "            output_sparsity=.04,\n",
    "            synapse_permanence_deltas=(.1, .03),\n",
    "            receptive_field_sparsity=rfs,\n",
    "            max_boost_factor=2,\n",
    "            boost_sliding_window=1000\n",
    "        )\n",
    "        t0 = time()\n",
    "        score = test_classification_with_sp(x_tr, y_tr, x_tst, y_tst, sp)\n",
    "        t1 = time()\n",
    "        result_heatmap[i, j] = score\n",
    "        time_heatmap[i, j] = t1 - t0\n",
    "        clear_output()"
   ]
  },
  {
   "cell_type": "code",
   "execution_count": 75,
   "metadata": {},
   "outputs": [
    {
     "data": {
      "image/png": "[encoded data removed]",
      "text/plain": [
       "<Figure size 640x480 with 2 Axes>"
      ]
     },
     "metadata": {},
     "output_type": "display_data"
    }
   ],
   "source": [
    "def heatmap_labels(label, nums):\n",
    "    labels = []\n",
    "    for n in nums:\n",
    "        labels.append(f'{label}={n}')\n",
    "    return labels\n",
    "\n",
    "\n",
    "l_rs = len(rfss)\n",
    "l_os = len(out_sizes)\n",
    "\n",
    "fig, ax = plt.subplots()\n",
    "plt.imshow(result_heatmap)\n",
    "plt.colorbar()\n",
    "plt.title(\"Accuracy score\")\n",
    "ax.set_yticks(np.arange(l_rs), heatmap_labels('rfs', rfss));\n",
    "ax.set_xticks(np.arange(l_os), heatmap_labels('o_s', out_sizes) );\n",
    "\n",
    "for i in range(l_rs):\n",
    "    for j in range(l_os):\n",
    "        text = ax.text(j, i, result_heatmap[i, j].round(5),\n",
    "                       ha=\"center\", va=\"center\", color=\"w\")"
   ]
  },
  {
   "cell_type": "code",
   "execution_count": 76,
   "metadata": {},
   "outputs": [
    {
     "data": {
      "image/png": "[encoded data removed]",
      "text/plain": [
       "<Figure size 640x480 with 2 Axes>"
      ]
     },
     "metadata": {},
     "output_type": "display_data"
    }
   ],
   "source": [
    "fig, ax = plt.subplots()\n",
    "plt.imshow(time_heatmap)\n",
    "plt.colorbar()\n",
    "plt.title(\"Time, min\")\n",
    "ax.set_yticks(np.arange(l_rs), heatmap_labels('rfs', rfss));\n",
    "ax.set_xticks(np.arange(l_os), heatmap_labels('o_s', out_sizes) );\n",
    "\n",
    "for i in range(l_rs):\n",
    "    for j in range(l_os):\n",
    "        text = ax.text(j, i, round(time_heatmap[i, j] / 60, 4),\n",
    "                       ha=\"center\", va=\"center\", color=\"w\")"
   ]
  },
  {
   "cell_type": "code",
   "execution_count": null,
   "metadata": {},
   "outputs": [],
   "source": []
  }
 ],
 "metadata": {
  "kernelspec": {
   "display_name": "hack",
   "language": "python",
   "name": "hack"
  },
  "language_info": {
   "codemirror_mode": {
    "name": "ipython",
    "version": 3
   },
   "file_extension": ".py",
   "mimetype": "text/x-python",
   "name": "python",
   "nbconvert_exporter": "python",
   "pygments_lexer": "ipython3",
   "version": "3.9.18"
  }
 },
 "nbformat": 4,
 "nbformat_minor": 4
}
